{
 "cells": [
  {
   "cell_type": "markdown",
   "id": "302e08c0-abf9-457c-916c-ca494c39bcbf",
   "metadata": {},
   "source": [
    "# EDA and Preprocessing\n",
    "The main objective of this project is to design and implement a robust data preprocessing system that addresses common challenges such as missing values, outliers, inconsistent formatting, and noise. By performing effective data preprocessing, the project aims to enhance the quality, reliability, and usefulness of the data for machine learning.\n"
   ]
  },
  {
   "cell_type": "code",
   "execution_count": 159,
   "id": "7837c28b-a0a4-4fab-9b20-22309e58acb3",
   "metadata": {},
   "outputs": [],
   "source": [
    "#  Import necessary libraries\n",
    "import pandas as pd\n",
    "import numpy as np\n",
    "import seaborn as sns\n",
    "import matplotlib.pyplot as plt\n",
    "from sklearn.preprocessing import StandardScaler, LabelEncoder, MinMaxScaler\n"
   ]
  },
  {
   "cell_type": "code",
   "execution_count": 130,
   "id": "dd24577f-7b0c-4478-b666-6a65fcba834d",
   "metadata": {},
   "outputs": [
    {
     "data": {
      "text/html": [
       "<div>\n",
       "<style scoped>\n",
       "    .dataframe tbody tr th:only-of-type {\n",
       "        vertical-align: middle;\n",
       "    }\n",
       "\n",
       "    .dataframe tbody tr th {\n",
       "        vertical-align: top;\n",
       "    }\n",
       "\n",
       "    .dataframe thead th {\n",
       "        text-align: right;\n",
       "    }\n",
       "</style>\n",
       "<table border=\"1\" class=\"dataframe\">\n",
       "  <thead>\n",
       "    <tr style=\"text-align: right;\">\n",
       "      <th></th>\n",
       "      <th>Company</th>\n",
       "      <th>Age</th>\n",
       "      <th>Salary</th>\n",
       "      <th>Place</th>\n",
       "      <th>Country</th>\n",
       "      <th>Gender</th>\n",
       "    </tr>\n",
       "  </thead>\n",
       "  <tbody>\n",
       "    <tr>\n",
       "      <th>0</th>\n",
       "      <td>TCS</td>\n",
       "      <td>20.0</td>\n",
       "      <td>NaN</td>\n",
       "      <td>Chennai</td>\n",
       "      <td>India</td>\n",
       "      <td>0</td>\n",
       "    </tr>\n",
       "    <tr>\n",
       "      <th>1</th>\n",
       "      <td>Infosys</td>\n",
       "      <td>30.0</td>\n",
       "      <td>NaN</td>\n",
       "      <td>Mumbai</td>\n",
       "      <td>India</td>\n",
       "      <td>0</td>\n",
       "    </tr>\n",
       "    <tr>\n",
       "      <th>2</th>\n",
       "      <td>TCS</td>\n",
       "      <td>35.0</td>\n",
       "      <td>2300.0</td>\n",
       "      <td>Calcutta</td>\n",
       "      <td>India</td>\n",
       "      <td>0</td>\n",
       "    </tr>\n",
       "    <tr>\n",
       "      <th>3</th>\n",
       "      <td>Infosys</td>\n",
       "      <td>40.0</td>\n",
       "      <td>3000.0</td>\n",
       "      <td>Delhi</td>\n",
       "      <td>India</td>\n",
       "      <td>0</td>\n",
       "    </tr>\n",
       "    <tr>\n",
       "      <th>4</th>\n",
       "      <td>TCS</td>\n",
       "      <td>23.0</td>\n",
       "      <td>4000.0</td>\n",
       "      <td>Mumbai</td>\n",
       "      <td>India</td>\n",
       "      <td>0</td>\n",
       "    </tr>\n",
       "    <tr>\n",
       "      <th>...</th>\n",
       "      <td>...</td>\n",
       "      <td>...</td>\n",
       "      <td>...</td>\n",
       "      <td>...</td>\n",
       "      <td>...</td>\n",
       "      <td>...</td>\n",
       "    </tr>\n",
       "    <tr>\n",
       "      <th>143</th>\n",
       "      <td>TCS</td>\n",
       "      <td>33.0</td>\n",
       "      <td>9024.0</td>\n",
       "      <td>Calcutta</td>\n",
       "      <td>India</td>\n",
       "      <td>1</td>\n",
       "    </tr>\n",
       "    <tr>\n",
       "      <th>144</th>\n",
       "      <td>Infosys</td>\n",
       "      <td>22.0</td>\n",
       "      <td>8787.0</td>\n",
       "      <td>Calcutta</td>\n",
       "      <td>India</td>\n",
       "      <td>1</td>\n",
       "    </tr>\n",
       "    <tr>\n",
       "      <th>145</th>\n",
       "      <td>Infosys</td>\n",
       "      <td>44.0</td>\n",
       "      <td>4034.0</td>\n",
       "      <td>Delhi</td>\n",
       "      <td>India</td>\n",
       "      <td>1</td>\n",
       "    </tr>\n",
       "    <tr>\n",
       "      <th>146</th>\n",
       "      <td>TCS</td>\n",
       "      <td>33.0</td>\n",
       "      <td>5034.0</td>\n",
       "      <td>Mumbai</td>\n",
       "      <td>India</td>\n",
       "      <td>1</td>\n",
       "    </tr>\n",
       "    <tr>\n",
       "      <th>147</th>\n",
       "      <td>Infosys</td>\n",
       "      <td>22.0</td>\n",
       "      <td>8202.0</td>\n",
       "      <td>Cochin</td>\n",
       "      <td>India</td>\n",
       "      <td>0</td>\n",
       "    </tr>\n",
       "  </tbody>\n",
       "</table>\n",
       "<p>148 rows × 6 columns</p>\n",
       "</div>"
      ],
      "text/plain": [
       "     Company   Age  Salary     Place Country  Gender\n",
       "0        TCS  20.0     NaN   Chennai   India       0\n",
       "1    Infosys  30.0     NaN    Mumbai   India       0\n",
       "2        TCS  35.0  2300.0  Calcutta   India       0\n",
       "3    Infosys  40.0  3000.0     Delhi   India       0\n",
       "4        TCS  23.0  4000.0    Mumbai   India       0\n",
       "..       ...   ...     ...       ...     ...     ...\n",
       "143      TCS  33.0  9024.0  Calcutta   India       1\n",
       "144  Infosys  22.0  8787.0  Calcutta   India       1\n",
       "145  Infosys  44.0  4034.0     Delhi   India       1\n",
       "146      TCS  33.0  5034.0    Mumbai   India       1\n",
       "147  Infosys  22.0  8202.0    Cochin   India       0\n",
       "\n",
       "[148 rows x 6 columns]"
      ]
     },
     "execution_count": 130,
     "metadata": {},
     "output_type": "execute_result"
    }
   ],
   "source": [
    "#  Load the dataset\n",
    "df = pd.read_csv(\"Employee.csv\")  \n",
    "df"
   ]
  },
  {
   "cell_type": "markdown",
   "id": "be1d11e0-f640-4b4c-9fc2-5ead5bdc313f",
   "metadata": {},
   "source": [
    "# Data Exploration"
   ]
  },
  {
   "cell_type": "code",
   "execution_count": 131,
   "id": "da670229-f66e-4ef9-add6-a7748b8da633",
   "metadata": {},
   "outputs": [
    {
     "data": {
      "text/html": [
       "<div>\n",
       "<style scoped>\n",
       "    .dataframe tbody tr th:only-of-type {\n",
       "        vertical-align: middle;\n",
       "    }\n",
       "\n",
       "    .dataframe tbody tr th {\n",
       "        vertical-align: top;\n",
       "    }\n",
       "\n",
       "    .dataframe thead th {\n",
       "        text-align: right;\n",
       "    }\n",
       "</style>\n",
       "<table border=\"1\" class=\"dataframe\">\n",
       "  <thead>\n",
       "    <tr style=\"text-align: right;\">\n",
       "      <th></th>\n",
       "      <th>Company</th>\n",
       "      <th>Age</th>\n",
       "      <th>Salary</th>\n",
       "      <th>Place</th>\n",
       "      <th>Country</th>\n",
       "      <th>Gender</th>\n",
       "    </tr>\n",
       "  </thead>\n",
       "  <tbody>\n",
       "    <tr>\n",
       "      <th>0</th>\n",
       "      <td>TCS</td>\n",
       "      <td>20.0</td>\n",
       "      <td>NaN</td>\n",
       "      <td>Chennai</td>\n",
       "      <td>India</td>\n",
       "      <td>0</td>\n",
       "    </tr>\n",
       "    <tr>\n",
       "      <th>1</th>\n",
       "      <td>Infosys</td>\n",
       "      <td>30.0</td>\n",
       "      <td>NaN</td>\n",
       "      <td>Mumbai</td>\n",
       "      <td>India</td>\n",
       "      <td>0</td>\n",
       "    </tr>\n",
       "    <tr>\n",
       "      <th>2</th>\n",
       "      <td>TCS</td>\n",
       "      <td>35.0</td>\n",
       "      <td>2300.0</td>\n",
       "      <td>Calcutta</td>\n",
       "      <td>India</td>\n",
       "      <td>0</td>\n",
       "    </tr>\n",
       "    <tr>\n",
       "      <th>3</th>\n",
       "      <td>Infosys</td>\n",
       "      <td>40.0</td>\n",
       "      <td>3000.0</td>\n",
       "      <td>Delhi</td>\n",
       "      <td>India</td>\n",
       "      <td>0</td>\n",
       "    </tr>\n",
       "    <tr>\n",
       "      <th>4</th>\n",
       "      <td>TCS</td>\n",
       "      <td>23.0</td>\n",
       "      <td>4000.0</td>\n",
       "      <td>Mumbai</td>\n",
       "      <td>India</td>\n",
       "      <td>0</td>\n",
       "    </tr>\n",
       "  </tbody>\n",
       "</table>\n",
       "</div>"
      ],
      "text/plain": [
       "   Company   Age  Salary     Place Country  Gender\n",
       "0      TCS  20.0     NaN   Chennai   India       0\n",
       "1  Infosys  30.0     NaN    Mumbai   India       0\n",
       "2      TCS  35.0  2300.0  Calcutta   India       0\n",
       "3  Infosys  40.0  3000.0     Delhi   India       0\n",
       "4      TCS  23.0  4000.0    Mumbai   India       0"
      ]
     },
     "execution_count": 131,
     "metadata": {},
     "output_type": "execute_result"
    }
   ],
   "source": [
    "# Display the first 5 rows\n",
    "df.head(5)"
   ]
  },
  {
   "cell_type": "code",
   "execution_count": 132,
   "id": "ccf257d1-5807-4543-8f52-b06547df222c",
   "metadata": {},
   "outputs": [
    {
     "name": "stdout",
     "output_type": "stream",
     "text": [
      "<class 'pandas.core.frame.DataFrame'>\n",
      "RangeIndex: 148 entries, 0 to 147\n",
      "Data columns (total 6 columns):\n",
      " #   Column   Non-Null Count  Dtype  \n",
      "---  ------   --------------  -----  \n",
      " 0   Company  140 non-null    object \n",
      " 1   Age      130 non-null    float64\n",
      " 2   Salary   124 non-null    float64\n",
      " 3   Place    134 non-null    object \n",
      " 4   Country  148 non-null    object \n",
      " 5   Gender   148 non-null    int64  \n",
      "dtypes: float64(2), int64(1), object(3)\n",
      "memory usage: 7.1+ KB\n"
     ]
    }
   ],
   "source": [
    "# to get the basic info about the dataset\n",
    "df.info()"
   ]
  },
  {
   "cell_type": "code",
   "execution_count": 133,
   "id": "6ea56fd5-c66e-42b6-a8bc-7a76afd1cc74",
   "metadata": {},
   "outputs": [
    {
     "data": {
      "text/plain": [
       "array(['TCS', 'Infosys', 'CTS', nan, 'Tata Consultancy Services',\n",
       "       'Congnizant', 'Infosys Pvt Lmt'], dtype=object)"
      ]
     },
     "execution_count": 133,
     "metadata": {},
     "output_type": "execute_result"
    }
   ],
   "source": [
    "# Finding unique value in each column\n",
    "df['Company'].unique()\n"
   ]
  },
  {
   "cell_type": "code",
   "execution_count": 134,
   "id": "d53565e0-f13c-49ea-8a7d-f6e3d56e42df",
   "metadata": {},
   "outputs": [
    {
     "data": {
      "text/plain": [
       "array([20., 30., 35., 40., 23., nan, 34., 45., 18., 22., 32., 37., 50.,\n",
       "       21., 46., 36., 26., 41., 24., 25., 43., 19., 38., 51., 31., 44.,\n",
       "       33., 17.,  0., 54.])"
      ]
     },
     "execution_count": 134,
     "metadata": {},
     "output_type": "execute_result"
    }
   ],
   "source": [
    "df['Age'].unique()"
   ]
  },
  {
   "cell_type": "code",
   "execution_count": 135,
   "id": "dc76d2d0-73e1-40dd-a849-fdae2d51d0dc",
   "metadata": {},
   "outputs": [
    {
     "data": {
      "text/plain": [
       "array([  nan, 2300., 3000., 4000., 5000., 6000., 7000., 8000., 9000.,\n",
       "       1089., 1234., 3030., 3045., 3184., 4824., 5835., 7084., 8943.,\n",
       "       8345., 9284., 9876., 2034., 7654., 2934., 4034., 5034., 8202.,\n",
       "       9024., 4345., 6544., 6543., 3234., 4324., 5435., 5555., 8787.,\n",
       "       3454., 5654., 5009., 5098., 3033.])"
      ]
     },
     "execution_count": 135,
     "metadata": {},
     "output_type": "execute_result"
    }
   ],
   "source": [
    "df['Salary'].unique()"
   ]
  },
  {
   "cell_type": "code",
   "execution_count": 136,
   "id": "8c680b02-a8d7-421c-ae29-01a6dbd66445",
   "metadata": {},
   "outputs": [
    {
     "data": {
      "text/plain": [
       "array(['Chennai', 'Mumbai', 'Calcutta', 'Delhi', 'Podicherry', 'Cochin',\n",
       "       nan, 'Noida', 'Hyderabad', 'Bhopal', 'Nagpur', 'Pune'],\n",
       "      dtype=object)"
      ]
     },
     "execution_count": 136,
     "metadata": {},
     "output_type": "execute_result"
    }
   ],
   "source": [
    "df['Place'].unique()"
   ]
  },
  {
   "cell_type": "code",
   "execution_count": 137,
   "id": "7602210d-4b73-4ed6-b365-8948478b5802",
   "metadata": {},
   "outputs": [
    {
     "data": {
      "text/plain": [
       "array(['India'], dtype=object)"
      ]
     },
     "execution_count": 137,
     "metadata": {},
     "output_type": "execute_result"
    }
   ],
   "source": [
    "df['Country'].unique()"
   ]
  },
  {
   "cell_type": "code",
   "execution_count": 138,
   "id": "609ff18b-5b19-4f2b-b936-a2e454430310",
   "metadata": {},
   "outputs": [
    {
     "data": {
      "text/plain": [
       "array([0, 1], dtype=int64)"
      ]
     },
     "execution_count": 138,
     "metadata": {},
     "output_type": "execute_result"
    }
   ],
   "source": [
    "df['Gender'].unique()"
   ]
  },
  {
   "cell_type": "code",
   "execution_count": 139,
   "id": "33276c1f-14ed-42ed-bdc2-09d97fa7b277",
   "metadata": {},
   "outputs": [
    {
     "data": {
      "text/plain": [
       "array(['TCS', 'Infosys', 'CTS', nan], dtype=object)"
      ]
     },
     "execution_count": 139,
     "metadata": {},
     "output_type": "execute_result"
    }
   ],
   "source": [
    "# Replace specific values in the 'Company' column\n",
    "df['Company'] = df['Company'].replace({\n",
    "    'Tata Consultancy Services': 'TCS',\n",
    "    'Infosys Pvt Lmt': 'Infosys',\n",
    "    'Congnizant': 'CTS'  # Optional: Fix typos too\n",
    "})\n",
    "df['Company'].unique()"
   ]
  },
  {
   "cell_type": "markdown",
   "id": "e81be939-a797-45bb-b938-e08c1b91852d",
   "metadata": {},
   "source": [
    "# Data Cleaning"
   ]
  },
  {
   "cell_type": "code",
   "execution_count": 140,
   "id": "1c612fad-53c5-4864-b0b7-647abcb79f4a",
   "metadata": {},
   "outputs": [],
   "source": [
    "#  Replace inappropriate value — age=0 instead of nan\n",
    "df['Age'] = df['Age'].replace(0, np.nan)\n"
   ]
  },
  {
   "cell_type": "code",
   "execution_count": 141,
   "id": "ba8c8c93-b13d-4f16-9408-acc39a2e934f",
   "metadata": {},
   "outputs": [
    {
     "name": "stdout",
     "output_type": "stream",
     "text": [
      "Company     8\n",
      "Age        24\n",
      "Salary     24\n",
      "Place      14\n",
      "Country     0\n",
      "Gender      0\n",
      "dtype: int64\n"
     ]
    }
   ],
   "source": [
    "#  Show missing values\n",
    "print(df.isnull().sum())"
   ]
  },
  {
   "cell_type": "code",
   "execution_count": 142,
   "id": "57ab7293-ffd9-4934-8ed5-6ee462194526",
   "metadata": {},
   "outputs": [
    {
     "name": "stderr",
     "output_type": "stream",
     "text": [
      "C:\\Users\\prave\\AppData\\Local\\Temp\\ipykernel_9920\\3535372854.py:3: FutureWarning: A value is trying to be set on a copy of a DataFrame or Series through chained assignment using an inplace method.\n",
      "The behavior will change in pandas 3.0. This inplace method will never work because the intermediate object on which we are setting values always behaves as a copy.\n",
      "\n",
      "For example, when doing 'df[col].method(value, inplace=True)', try using 'df.method({col: value}, inplace=True)' or df[col] = df[col].method(value) instead, to perform the operation inplace on the original object.\n",
      "\n",
      "\n",
      "  df['Age'].fillna(df['Age'].median(), inplace=True)\n",
      "C:\\Users\\prave\\AppData\\Local\\Temp\\ipykernel_9920\\3535372854.py:4: FutureWarning: A value is trying to be set on a copy of a DataFrame or Series through chained assignment using an inplace method.\n",
      "The behavior will change in pandas 3.0. This inplace method will never work because the intermediate object on which we are setting values always behaves as a copy.\n",
      "\n",
      "For example, when doing 'df[col].method(value, inplace=True)', try using 'df.method({col: value}, inplace=True)' or df[col] = df[col].method(value) instead, to perform the operation inplace on the original object.\n",
      "\n",
      "\n",
      "  df['Salary'].fillna(df['Salary'].median(), inplace=True)\n"
     ]
    }
   ],
   "source": [
    "# Treat missing values\n",
    "# For numerical columns replace with median\n",
    "df['Age'].fillna(df['Age'].median(), inplace=True)\n",
    "df['Salary'].fillna(df['Salary'].median(), inplace=True)\n"
   ]
  },
  {
   "cell_type": "code",
   "execution_count": 143,
   "id": "d7d3694f-f967-407c-82dd-ccf0cabbcbc0",
   "metadata": {},
   "outputs": [
    {
     "name": "stderr",
     "output_type": "stream",
     "text": [
      "C:\\Users\\prave\\AppData\\Local\\Temp\\ipykernel_9920\\3526158575.py:2: FutureWarning: A value is trying to be set on a copy of a DataFrame or Series through chained assignment using an inplace method.\n",
      "The behavior will change in pandas 3.0. This inplace method will never work because the intermediate object on which we are setting values always behaves as a copy.\n",
      "\n",
      "For example, when doing 'df[col].method(value, inplace=True)', try using 'df.method({col: value}, inplace=True)' or df[col] = df[col].method(value) instead, to perform the operation inplace on the original object.\n",
      "\n",
      "\n",
      "  df['Company'].fillna(df['Company'].mode()[0], inplace=True)\n",
      "C:\\Users\\prave\\AppData\\Local\\Temp\\ipykernel_9920\\3526158575.py:3: FutureWarning: A value is trying to be set on a copy of a DataFrame or Series through chained assignment using an inplace method.\n",
      "The behavior will change in pandas 3.0. This inplace method will never work because the intermediate object on which we are setting values always behaves as a copy.\n",
      "\n",
      "For example, when doing 'df[col].method(value, inplace=True)', try using 'df.method({col: value}, inplace=True)' or df[col] = df[col].method(value) instead, to perform the operation inplace on the original object.\n",
      "\n",
      "\n",
      "  df['Place'].fillna(df['Place'].mode()[0], inplace=True)\n"
     ]
    }
   ],
   "source": [
    "# For categorical columns replace missing values with mode\n",
    "df['Company'].fillna(df['Company'].mode()[0], inplace=True)\n",
    "df['Place'].fillna(df['Place'].mode()[0], inplace=True)\n"
   ]
  },
  {
   "cell_type": "code",
   "execution_count": 144,
   "id": "f0fb7486-4382-4c6c-bbef-71671ff580a5",
   "metadata": {},
   "outputs": [
    {
     "data": {
      "text/plain": [
       "144"
      ]
     },
     "execution_count": 144,
     "metadata": {},
     "output_type": "execute_result"
    }
   ],
   "source": [
    "# Remove duplicate rows\n",
    "df.drop_duplicates(inplace=True)\n",
    "len(df)"
   ]
  },
  {
   "cell_type": "code",
   "execution_count": 145,
   "id": "a2a18b6b-ee6a-46ac-bd12-97b9fa78de47",
   "metadata": {},
   "outputs": [
    {
     "data": {
      "text/plain": [
       "Company    0\n",
       "Age        0\n",
       "Salary     0\n",
       "Place      0\n",
       "Country    0\n",
       "Gender     0\n",
       "dtype: int64"
      ]
     },
     "execution_count": 145,
     "metadata": {},
     "output_type": "execute_result"
    }
   ],
   "source": [
    "df.isnull().sum()"
   ]
  },
  {
   "cell_type": "code",
   "execution_count": 146,
   "id": "613ccc72-08f6-4185-97d8-b8d62c7c48f3",
   "metadata": {},
   "outputs": [],
   "source": [
    "# there is no more missing values in columns"
   ]
  },
  {
   "cell_type": "code",
   "execution_count": 147,
   "id": "fcce3147-d2cc-47c5-9b47-9cc70b76442e",
   "metadata": {},
   "outputs": [
    {
     "data": {
      "image/png": "[encoded data removed]",
      "text/plain": [
       "<Figure size 640x480 with 1 Axes>"
      ]
     },
     "metadata": {},
     "output_type": "display_data"
    }
   ],
   "source": [
    "# Finding outliers\n",
    "# Boxplot for age\n",
    "sns.boxplot(x=df['Age'])\n",
    "plt.title('Boxplot - Age')\n",
    "plt.show()"
   ]
  },
  {
   "cell_type": "code",
   "execution_count": 148,
   "id": "4cd922fc-0744-4b5c-85f4-3f45309ce63e",
   "metadata": {},
   "outputs": [
    {
     "data": {
      "image/png": "[encoded data removed]",
      "text/plain": [
       "<Figure size 640x480 with 1 Axes>"
      ]
     },
     "metadata": {},
     "output_type": "display_data"
    }
   ],
   "source": [
    "# Boxplot for age\n",
    "sns.boxplot(x=df['Salary'])\n",
    "plt.title('Boxplot - Salary')\n",
    "plt.show()"
   ]
  },
  {
   "cell_type": "markdown",
   "id": "e558c886-b06f-4090-91cf-ba66d5f10fea",
   "metadata": {},
   "source": [
    "From the above boxpot no outliers are shown."
   ]
  },
  {
   "cell_type": "code",
   "execution_count": 149,
   "id": "9e9bfc9e-7e6b-435f-b385-ae1a834c2a27",
   "metadata": {},
   "outputs": [
    {
     "name": "stdout",
     "output_type": "stream",
     "text": [
      "Number of ourliers in Salary column:  Empty DataFrame\n",
      "Columns: [Company, Age, Salary, Place, Country, Gender]\n",
      "Index: []\n",
      "Number of ourliers in Age column:  Empty DataFrame\n",
      "Columns: [Company, Age, Salary, Place, Country, Gender]\n",
      "Index: []\n"
     ]
    }
   ],
   "source": [
    "# Define a function to find outliers using IQR\n",
    "def Find_outliers(data,column):\n",
    "    Q1 = data[column].quantile(.25)\n",
    "    Q3 = data[column].quantile(.75)\n",
    "    IQR = Q3-Q1\n",
    "    lower = Q1-1.5*IQR\n",
    "    upper = Q3 + 1.5*IQR\n",
    "    outliers = data[(data[column] < lower)  | (data[column] > upper)]\n",
    "    return outliers\n",
    "\n",
    "# calling function to find outliers of salary and age column\n",
    "salary_outliers = Find_outliers(df,'Salary')\n",
    "age_outliers = Find_outliers(df,'Age')\n",
    "print(\"Number of ourliers in Salary column: \",salary_outliers)\n",
    "print(\"Number of ourliers in Age column: \",age_outliers)"
   ]
  },
  {
   "cell_type": "markdown",
   "id": "8cbcb963-4510-4be4-a560-f84d7ac8863b",
   "metadata": {},
   "source": [
    "No outliers found using IQR method"
   ]
  },
  {
   "cell_type": "markdown",
   "id": "95c242ba-b329-46ce-9c28-d3f429ab1e94",
   "metadata": {},
   "source": [
    "# Data Analysis"
   ]
  },
  {
   "cell_type": "code",
   "execution_count": 150,
   "id": "f40d0b68-8591-4a3a-9f02-c5e667b951fa",
   "metadata": {},
   "outputs": [
    {
     "data": {
      "text/html": [
       "<div>\n",
       "<style scoped>\n",
       "    .dataframe tbody tr th:only-of-type {\n",
       "        vertical-align: middle;\n",
       "    }\n",
       "\n",
       "    .dataframe tbody tr th {\n",
       "        vertical-align: top;\n",
       "    }\n",
       "\n",
       "    .dataframe thead th {\n",
       "        text-align: right;\n",
       "    }\n",
       "</style>\n",
       "<table border=\"1\" class=\"dataframe\">\n",
       "  <thead>\n",
       "    <tr style=\"text-align: right;\">\n",
       "      <th></th>\n",
       "      <th>Company</th>\n",
       "      <th>Age</th>\n",
       "      <th>Salary</th>\n",
       "      <th>Place</th>\n",
       "      <th>Country</th>\n",
       "      <th>Gender</th>\n",
       "    </tr>\n",
       "  </thead>\n",
       "  <tbody>\n",
       "    <tr>\n",
       "      <th>21</th>\n",
       "      <td>Infosys</td>\n",
       "      <td>50.0</td>\n",
       "      <td>3184.0</td>\n",
       "      <td>Delhi</td>\n",
       "      <td>India</td>\n",
       "      <td>0</td>\n",
       "    </tr>\n",
       "    <tr>\n",
       "      <th>32</th>\n",
       "      <td>Infosys</td>\n",
       "      <td>45.0</td>\n",
       "      <td>4034.0</td>\n",
       "      <td>Calcutta</td>\n",
       "      <td>India</td>\n",
       "      <td>0</td>\n",
       "    </tr>\n",
       "    <tr>\n",
       "      <th>39</th>\n",
       "      <td>Infosys</td>\n",
       "      <td>41.0</td>\n",
       "      <td>3000.0</td>\n",
       "      <td>Mumbai</td>\n",
       "      <td>India</td>\n",
       "      <td>0</td>\n",
       "    </tr>\n",
       "    <tr>\n",
       "      <th>50</th>\n",
       "      <td>Infosys</td>\n",
       "      <td>41.0</td>\n",
       "      <td>3000.0</td>\n",
       "      <td>Chennai</td>\n",
       "      <td>India</td>\n",
       "      <td>0</td>\n",
       "    </tr>\n",
       "    <tr>\n",
       "      <th>57</th>\n",
       "      <td>Infosys</td>\n",
       "      <td>51.0</td>\n",
       "      <td>3184.0</td>\n",
       "      <td>Hyderabad</td>\n",
       "      <td>India</td>\n",
       "      <td>0</td>\n",
       "    </tr>\n",
       "    <tr>\n",
       "      <th>68</th>\n",
       "      <td>Infosys</td>\n",
       "      <td>43.0</td>\n",
       "      <td>4034.0</td>\n",
       "      <td>Mumbai</td>\n",
       "      <td>India</td>\n",
       "      <td>0</td>\n",
       "    </tr>\n",
       "    <tr>\n",
       "      <th>75</th>\n",
       "      <td>Infosys</td>\n",
       "      <td>44.0</td>\n",
       "      <td>3000.0</td>\n",
       "      <td>Cochin</td>\n",
       "      <td>India</td>\n",
       "      <td>0</td>\n",
       "    </tr>\n",
       "    <tr>\n",
       "      <th>86</th>\n",
       "      <td>Infosys</td>\n",
       "      <td>41.0</td>\n",
       "      <td>3000.0</td>\n",
       "      <td>Delhi</td>\n",
       "      <td>India</td>\n",
       "      <td>0</td>\n",
       "    </tr>\n",
       "    <tr>\n",
       "      <th>93</th>\n",
       "      <td>Infosys</td>\n",
       "      <td>54.0</td>\n",
       "      <td>3184.0</td>\n",
       "      <td>Mumbai</td>\n",
       "      <td>India</td>\n",
       "      <td>0</td>\n",
       "    </tr>\n",
       "    <tr>\n",
       "      <th>104</th>\n",
       "      <td>Infosys</td>\n",
       "      <td>44.0</td>\n",
       "      <td>4034.0</td>\n",
       "      <td>Delhi</td>\n",
       "      <td>India</td>\n",
       "      <td>0</td>\n",
       "    </tr>\n",
       "    <tr>\n",
       "      <th>122</th>\n",
       "      <td>Infosys</td>\n",
       "      <td>44.0</td>\n",
       "      <td>3234.0</td>\n",
       "      <td>Mumbai</td>\n",
       "      <td>India</td>\n",
       "      <td>0</td>\n",
       "    </tr>\n",
       "    <tr>\n",
       "      <th>129</th>\n",
       "      <td>Infosys</td>\n",
       "      <td>50.0</td>\n",
       "      <td>3184.0</td>\n",
       "      <td>Calcutta</td>\n",
       "      <td>India</td>\n",
       "      <td>0</td>\n",
       "    </tr>\n",
       "    <tr>\n",
       "      <th>138</th>\n",
       "      <td>CTS</td>\n",
       "      <td>44.0</td>\n",
       "      <td>3033.0</td>\n",
       "      <td>Cochin</td>\n",
       "      <td>India</td>\n",
       "      <td>0</td>\n",
       "    </tr>\n",
       "    <tr>\n",
       "      <th>140</th>\n",
       "      <td>Infosys</td>\n",
       "      <td>44.0</td>\n",
       "      <td>4034.0</td>\n",
       "      <td>Hyderabad</td>\n",
       "      <td>India</td>\n",
       "      <td>0</td>\n",
       "    </tr>\n",
       "    <tr>\n",
       "      <th>145</th>\n",
       "      <td>Infosys</td>\n",
       "      <td>44.0</td>\n",
       "      <td>4034.0</td>\n",
       "      <td>Delhi</td>\n",
       "      <td>India</td>\n",
       "      <td>1</td>\n",
       "    </tr>\n",
       "  </tbody>\n",
       "</table>\n",
       "</div>"
      ],
      "text/plain": [
       "     Company   Age  Salary      Place Country  Gender\n",
       "21   Infosys  50.0  3184.0      Delhi   India       0\n",
       "32   Infosys  45.0  4034.0   Calcutta   India       0\n",
       "39   Infosys  41.0  3000.0     Mumbai   India       0\n",
       "50   Infosys  41.0  3000.0    Chennai   India       0\n",
       "57   Infosys  51.0  3184.0  Hyderabad   India       0\n",
       "68   Infosys  43.0  4034.0     Mumbai   India       0\n",
       "75   Infosys  44.0  3000.0     Cochin   India       0\n",
       "86   Infosys  41.0  3000.0      Delhi   India       0\n",
       "93   Infosys  54.0  3184.0     Mumbai   India       0\n",
       "104  Infosys  44.0  4034.0      Delhi   India       0\n",
       "122  Infosys  44.0  3234.0     Mumbai   India       0\n",
       "129  Infosys  50.0  3184.0   Calcutta   India       0\n",
       "138      CTS  44.0  3033.0     Cochin   India       0\n",
       "140  Infosys  44.0  4034.0  Hyderabad   India       0\n",
       "145  Infosys  44.0  4034.0      Delhi   India       1"
      ]
     },
     "execution_count": 150,
     "metadata": {},
     "output_type": "execute_result"
    }
   ],
   "source": [
    "# Filter the data with age >40 and salary<5000\n",
    "df_filter = df[(df['Age'] >40) & (df['Salary'] < 5000)]\n",
    "df_filter"
   ]
  },
  {
   "cell_type": "code",
   "execution_count": 151,
   "id": "f34506be-ee0e-4522-8294-5f1d0e212b64",
   "metadata": {},
   "outputs": [
    {
     "data": {
      "image/png": "[encoded data removed]",
      "text/plain": [
       "<Figure size 640x480 with 1 Axes>"
      ]
     },
     "metadata": {},
     "output_type": "display_data"
    }
   ],
   "source": [
    "# Plot the chart with age and salary\n",
    "sns.scatterplot(data = df,x = 'Age', y ='Salary')\n",
    "plt.title('Age vs Salary')\n",
    "plt.xlabel('Age')\n",
    "plt.ylabel('Salary')\n",
    "plt.show()"
   ]
  },
  {
   "cell_type": "code",
   "execution_count": 152,
   "id": "39d83a3e-6403-4715-b538-33fe8056c7c4",
   "metadata": {},
   "outputs": [
    {
     "name": "stdout",
     "output_type": "stream",
     "text": [
      "Number of people from each place:  Place\n",
      "Mumbai        48\n",
      "Calcutta      32\n",
      "Chennai       14\n",
      "Delhi         14\n",
      "Cochin        13\n",
      "Noida          8\n",
      "Hyderabad      8\n",
      "Podicherry     3\n",
      "Pune           2\n",
      "Bhopal         1\n",
      "Nagpur         1\n",
      "Name: count, dtype: int64\n"
     ]
    }
   ],
   "source": [
    "#Count the number of people from each place and represent it visually\n",
    "counts = df['Place'].value_counts()\n",
    "print(\"Number of people from each place: \",counts)"
   ]
  },
  {
   "cell_type": "code",
   "execution_count": 153,
   "id": "1811e050-ff2b-437b-92b3-fb087a4db785",
   "metadata": {},
   "outputs": [
    {
     "data": {
      "text/plain": [
       "<Axes: xlabel='Place', ylabel='count'>"
      ]
     },
     "execution_count": 153,
     "metadata": {},
     "output_type": "execute_result"
    },
    {
     "data": {
      "image/png": "[encoded data removed]",
      "text/plain": [
       "<Figure size 900x500 with 1 Axes>"
      ]
     },
     "metadata": {},
     "output_type": "display_data"
    }
   ],
   "source": [
    "plt.figure(figsize=(9, 5))\n",
    "sns.countplot(x='Place', data=df)"
   ]
  },
  {
   "cell_type": "markdown",
   "id": "e0717a07-79a5-4f3b-96a1-0cb8fa7fef36",
   "metadata": {},
   "source": [
    "# Data Encoding"
   ]
  },
  {
   "cell_type": "markdown",
   "id": "aa09e666-772c-4379-9024-bcefa133065f",
   "metadata": {},
   "source": [
    " Converting categorical variables into numerical representations using techniques such as one-hot encoding, label encoding, \n",
    " making them suitable for analysis by machine learning algorithms."
   ]
  },
  {
   "cell_type": "code",
   "execution_count": 154,
   "id": "b384d164-c31c-420b-a062-2b94f6c1993d",
   "metadata": {},
   "outputs": [],
   "source": [
    "df_labelEncoded = df.copy()"
   ]
  },
  {
   "cell_type": "code",
   "execution_count": 158,
   "id": "5bb8002e-795e-4937-a512-62e66b511a63",
   "metadata": {},
   "outputs": [
    {
     "data": {
      "text/html": [
       "<div>\n",
       "<style scoped>\n",
       "    .dataframe tbody tr th:only-of-type {\n",
       "        vertical-align: middle;\n",
       "    }\n",
       "\n",
       "    .dataframe tbody tr th {\n",
       "        vertical-align: top;\n",
       "    }\n",
       "\n",
       "    .dataframe thead th {\n",
       "        text-align: right;\n",
       "    }\n",
       "</style>\n",
       "<table border=\"1\" class=\"dataframe\">\n",
       "  <thead>\n",
       "    <tr style=\"text-align: right;\">\n",
       "      <th></th>\n",
       "      <th>Age</th>\n",
       "      <th>Salary</th>\n",
       "      <th>Country</th>\n",
       "      <th>Gender</th>\n",
       "      <th>Place_Calcutta</th>\n",
       "      <th>Place_Chennai</th>\n",
       "      <th>Place_Cochin</th>\n",
       "      <th>Place_Delhi</th>\n",
       "      <th>Place_Hyderabad</th>\n",
       "      <th>Place_Mumbai</th>\n",
       "      <th>Place_Nagpur</th>\n",
       "      <th>Place_Noida</th>\n",
       "      <th>Place_Podicherry</th>\n",
       "      <th>Place_Pune</th>\n",
       "      <th>Company_Infosys</th>\n",
       "      <th>Company_TCS</th>\n",
       "    </tr>\n",
       "  </thead>\n",
       "  <tbody>\n",
       "    <tr>\n",
       "      <th>0</th>\n",
       "      <td>20.0</td>\n",
       "      <td>5000.0</td>\n",
       "      <td>India</td>\n",
       "      <td>0</td>\n",
       "      <td>False</td>\n",
       "      <td>True</td>\n",
       "      <td>False</td>\n",
       "      <td>False</td>\n",
       "      <td>False</td>\n",
       "      <td>False</td>\n",
       "      <td>False</td>\n",
       "      <td>False</td>\n",
       "      <td>False</td>\n",
       "      <td>False</td>\n",
       "      <td>False</td>\n",
       "      <td>True</td>\n",
       "    </tr>\n",
       "    <tr>\n",
       "      <th>1</th>\n",
       "      <td>30.0</td>\n",
       "      <td>5000.0</td>\n",
       "      <td>India</td>\n",
       "      <td>0</td>\n",
       "      <td>False</td>\n",
       "      <td>False</td>\n",
       "      <td>False</td>\n",
       "      <td>False</td>\n",
       "      <td>False</td>\n",
       "      <td>True</td>\n",
       "      <td>False</td>\n",
       "      <td>False</td>\n",
       "      <td>False</td>\n",
       "      <td>False</td>\n",
       "      <td>True</td>\n",
       "      <td>False</td>\n",
       "    </tr>\n",
       "    <tr>\n",
       "      <th>2</th>\n",
       "      <td>35.0</td>\n",
       "      <td>2300.0</td>\n",
       "      <td>India</td>\n",
       "      <td>0</td>\n",
       "      <td>True</td>\n",
       "      <td>False</td>\n",
       "      <td>False</td>\n",
       "      <td>False</td>\n",
       "      <td>False</td>\n",
       "      <td>False</td>\n",
       "      <td>False</td>\n",
       "      <td>False</td>\n",
       "      <td>False</td>\n",
       "      <td>False</td>\n",
       "      <td>False</td>\n",
       "      <td>True</td>\n",
       "    </tr>\n",
       "    <tr>\n",
       "      <th>3</th>\n",
       "      <td>40.0</td>\n",
       "      <td>3000.0</td>\n",
       "      <td>India</td>\n",
       "      <td>0</td>\n",
       "      <td>False</td>\n",
       "      <td>False</td>\n",
       "      <td>False</td>\n",
       "      <td>True</td>\n",
       "      <td>False</td>\n",
       "      <td>False</td>\n",
       "      <td>False</td>\n",
       "      <td>False</td>\n",
       "      <td>False</td>\n",
       "      <td>False</td>\n",
       "      <td>True</td>\n",
       "      <td>False</td>\n",
       "    </tr>\n",
       "    <tr>\n",
       "      <th>4</th>\n",
       "      <td>23.0</td>\n",
       "      <td>4000.0</td>\n",
       "      <td>India</td>\n",
       "      <td>0</td>\n",
       "      <td>False</td>\n",
       "      <td>False</td>\n",
       "      <td>False</td>\n",
       "      <td>False</td>\n",
       "      <td>False</td>\n",
       "      <td>True</td>\n",
       "      <td>False</td>\n",
       "      <td>False</td>\n",
       "      <td>False</td>\n",
       "      <td>False</td>\n",
       "      <td>False</td>\n",
       "      <td>True</td>\n",
       "    </tr>\n",
       "    <tr>\n",
       "      <th>...</th>\n",
       "      <td>...</td>\n",
       "      <td>...</td>\n",
       "      <td>...</td>\n",
       "      <td>...</td>\n",
       "      <td>...</td>\n",
       "      <td>...</td>\n",
       "      <td>...</td>\n",
       "      <td>...</td>\n",
       "      <td>...</td>\n",
       "      <td>...</td>\n",
       "      <td>...</td>\n",
       "      <td>...</td>\n",
       "      <td>...</td>\n",
       "      <td>...</td>\n",
       "      <td>...</td>\n",
       "      <td>...</td>\n",
       "    </tr>\n",
       "    <tr>\n",
       "      <th>142</th>\n",
       "      <td>22.0</td>\n",
       "      <td>8202.0</td>\n",
       "      <td>India</td>\n",
       "      <td>0</td>\n",
       "      <td>False</td>\n",
       "      <td>False</td>\n",
       "      <td>False</td>\n",
       "      <td>False</td>\n",
       "      <td>False</td>\n",
       "      <td>True</td>\n",
       "      <td>False</td>\n",
       "      <td>False</td>\n",
       "      <td>False</td>\n",
       "      <td>False</td>\n",
       "      <td>True</td>\n",
       "      <td>False</td>\n",
       "    </tr>\n",
       "    <tr>\n",
       "      <th>143</th>\n",
       "      <td>33.0</td>\n",
       "      <td>9024.0</td>\n",
       "      <td>India</td>\n",
       "      <td>1</td>\n",
       "      <td>True</td>\n",
       "      <td>False</td>\n",
       "      <td>False</td>\n",
       "      <td>False</td>\n",
       "      <td>False</td>\n",
       "      <td>False</td>\n",
       "      <td>False</td>\n",
       "      <td>False</td>\n",
       "      <td>False</td>\n",
       "      <td>False</td>\n",
       "      <td>False</td>\n",
       "      <td>True</td>\n",
       "    </tr>\n",
       "    <tr>\n",
       "      <th>145</th>\n",
       "      <td>44.0</td>\n",
       "      <td>4034.0</td>\n",
       "      <td>India</td>\n",
       "      <td>1</td>\n",
       "      <td>False</td>\n",
       "      <td>False</td>\n",
       "      <td>False</td>\n",
       "      <td>True</td>\n",
       "      <td>False</td>\n",
       "      <td>False</td>\n",
       "      <td>False</td>\n",
       "      <td>False</td>\n",
       "      <td>False</td>\n",
       "      <td>False</td>\n",
       "      <td>True</td>\n",
       "      <td>False</td>\n",
       "    </tr>\n",
       "    <tr>\n",
       "      <th>146</th>\n",
       "      <td>33.0</td>\n",
       "      <td>5034.0</td>\n",
       "      <td>India</td>\n",
       "      <td>1</td>\n",
       "      <td>False</td>\n",
       "      <td>False</td>\n",
       "      <td>False</td>\n",
       "      <td>False</td>\n",
       "      <td>False</td>\n",
       "      <td>True</td>\n",
       "      <td>False</td>\n",
       "      <td>False</td>\n",
       "      <td>False</td>\n",
       "      <td>False</td>\n",
       "      <td>False</td>\n",
       "      <td>True</td>\n",
       "    </tr>\n",
       "    <tr>\n",
       "      <th>147</th>\n",
       "      <td>22.0</td>\n",
       "      <td>8202.0</td>\n",
       "      <td>India</td>\n",
       "      <td>0</td>\n",
       "      <td>False</td>\n",
       "      <td>False</td>\n",
       "      <td>True</td>\n",
       "      <td>False</td>\n",
       "      <td>False</td>\n",
       "      <td>False</td>\n",
       "      <td>False</td>\n",
       "      <td>False</td>\n",
       "      <td>False</td>\n",
       "      <td>False</td>\n",
       "      <td>True</td>\n",
       "      <td>False</td>\n",
       "    </tr>\n",
       "  </tbody>\n",
       "</table>\n",
       "<p>144 rows × 16 columns</p>\n",
       "</div>"
      ],
      "text/plain": [
       "      Age  Salary Country  Gender  Place_Calcutta  Place_Chennai  \\\n",
       "0    20.0  5000.0   India       0           False           True   \n",
       "1    30.0  5000.0   India       0           False          False   \n",
       "2    35.0  2300.0   India       0            True          False   \n",
       "3    40.0  3000.0   India       0           False          False   \n",
       "4    23.0  4000.0   India       0           False          False   \n",
       "..    ...     ...     ...     ...             ...            ...   \n",
       "142  22.0  8202.0   India       0           False          False   \n",
       "143  33.0  9024.0   India       1            True          False   \n",
       "145  44.0  4034.0   India       1           False          False   \n",
       "146  33.0  5034.0   India       1           False          False   \n",
       "147  22.0  8202.0   India       0           False          False   \n",
       "\n",
       "     Place_Cochin  Place_Delhi  Place_Hyderabad  Place_Mumbai  Place_Nagpur  \\\n",
       "0           False        False            False         False         False   \n",
       "1           False        False            False          True         False   \n",
       "2           False        False            False         False         False   \n",
       "3           False         True            False         False         False   \n",
       "4           False        False            False          True         False   \n",
       "..            ...          ...              ...           ...           ...   \n",
       "142         False        False            False          True         False   \n",
       "143         False        False            False         False         False   \n",
       "145         False         True            False         False         False   \n",
       "146         False        False            False          True         False   \n",
       "147          True        False            False         False         False   \n",
       "\n",
       "     Place_Noida  Place_Podicherry  Place_Pune  Company_Infosys  Company_TCS  \n",
       "0          False             False       False            False         True  \n",
       "1          False             False       False             True        False  \n",
       "2          False             False       False            False         True  \n",
       "3          False             False       False             True        False  \n",
       "4          False             False       False            False         True  \n",
       "..           ...               ...         ...              ...          ...  \n",
       "142        False             False       False             True        False  \n",
       "143        False             False       False            False         True  \n",
       "145        False             False       False             True        False  \n",
       "146        False             False       False            False         True  \n",
       "147        False             False       False             True        False  \n",
       "\n",
       "[144 rows x 16 columns]"
      ]
     },
     "execution_count": 158,
     "metadata": {},
     "output_type": "execute_result"
    }
   ],
   "source": [
    "# Using LabelEncoder for encoding 'Place' and 'Company'column\n",
    "# Initialize the LabelEncoder \n",
    "label_encoder = LabelEncoder()\n",
    "\n",
    "df_labelEncoded['Place_encoded'] = label_encoder.fit_transform(df_labelEncoded['Place'])\n",
    "df_labelEncoded['Company_encoded'] = label_encoder.fit_transform(df['Company'])\n",
    "\n",
    "# Using one hot encoding technique for encoding column\n",
    "df_oneHot = df.copy()\n",
    "cat_cols = ['Place','Company']\n",
    "df_oneHot = pd.get_dummies(df_oneHot, columns=cat_cols, drop_first=True)\n"
   ]
  },
  {
   "cell_type": "markdown",
   "id": "44b1729f-648c-4f59-b541-bb6bfff3d6e5",
   "metadata": {},
   "source": [
    "# Feature Scaling"
   ]
  },
  {
   "cell_type": "markdown",
   "id": "a21abb7f-85bc-45fd-a54f-ec0ac0a242f4",
   "metadata": {},
   "source": [
    "After the process of encoding, perform the scaling of the features using standardscaler and minmaxscaler."
   ]
  },
  {
   "cell_type": "code",
   "execution_count": 166,
   "id": "7ec760ee-5dd0-43f6-ba0b-dbc5c47a0211",
   "metadata": {},
   "outputs": [],
   "source": [
    "# performing MinMax scaler\n",
    "scaler_minmax = MinMaxScaler()\n",
    "num_col = df_labelEncoded.select_dtypes(include=['int64', 'float64']).columns\n",
    "df_minmax_scaled = df_labelEncoded.copy()\n",
    "df_minmax_scaled[num_col] = scaler_minmax.fit_transform(df_labelEncoded[num_col])\n"
   ]
  },
  {
   "cell_type": "code",
   "execution_count": 171,
   "id": "a5057993-69f7-490f-96cd-86281c3e98ad",
   "metadata": {},
   "outputs": [],
   "source": [
    "# Performing standaed scaler\n",
    "standard_scaler = StandardScaler()\n",
    "num_cols = df_oneHot.select_dtypes(include=['int64', 'float64']).columns\n",
    "df_std_scaled = df_oneHot.copy()\n",
    "df_std_scaled = standard_scaler.fit_transform(df_oneHot[num_cols])"
   ]
  },
  {
   "cell_type": "code",
   "execution_count": 172,
   "id": "d1f2e4a7-7aca-4e91-acb7-b375fa8df5df",
   "metadata": {},
   "outputs": [
    {
     "name": "stdout",
     "output_type": "stream",
     "text": [
      "Standard Scaled Data :\n",
      "[[-1.48467637 -0.10082748 -0.53452248]\n",
      " [-0.26717411 -0.10082748 -0.53452248]\n",
      " [ 0.34157702 -1.2437349  -0.53452248]\n",
      " [ 0.95032816 -0.94742557 -0.53452248]\n",
      " [-1.11942569 -0.52412653 -0.53452248]\n",
      " [ 0.09807657 -0.10082748 -0.53452248]\n",
      " [ 0.09807657  0.32247156  1.87082869]\n",
      " [-1.11942569  0.74577061  1.87082869]\n",
      " [ 0.2198268   1.16906965  1.87082869]\n",
      " [ 1.55907929  1.5923687  -0.53452248]\n",
      " [-1.11942569 -0.10082748 -0.53452248]\n",
      " [ 0.2198268  -1.75635005 -0.53452248]\n",
      " [ 1.55907929 -0.10082748 -0.53452248]\n",
      " [-1.72817683 -1.69497168 -0.53452248]\n",
      " [ 0.95032816 -0.94742557 -0.53452248]\n",
      " [-1.11942569 -0.94742557 -0.53452248]\n",
      " [-1.11942569 -0.9347266  -0.53452248]\n",
      " [ 0.2198268  -0.10082748 -0.53452248]\n",
      " [-1.24117592 -0.10082748 -0.53452248]\n",
      " [-0.02367366 -0.10082748 -0.53452248]\n",
      " [ 0.58507748 -0.92837711 -0.53452248]\n",
      " [ 2.16783042 -0.86953855 -0.53452248]\n",
      " [-1.36292615 -0.17532811 -0.53452248]\n",
      " [ 0.09807657  0.25262722 -0.53452248]\n",
      " [ 0.09807657  0.78132773  1.87082869]\n",
      " [-1.11942569  1.56824065  1.87082869]\n",
      " [ 0.2198268   1.31510783  1.87082869]\n",
      " [ 1.55907929  1.71258563  1.87082869]\n",
      " [-1.11942569  1.96317866  1.87082869]\n",
      " [ 0.34157702 -1.35633245 -0.53452248]\n",
      " [ 1.68082952  1.02260818 -0.53452248]\n",
      " [-1.48467637 -0.97536331 -0.53452248]\n",
      " [ 1.55907929 -0.50973436 -0.53452248]\n",
      " [ 0.46332725 -0.08643531 -0.53452248]\n",
      " [-0.75417501  1.25457606 -0.53452248]\n",
      " [ 0.34157702  1.60252788  1.87082869]\n",
      " [-0.02367366 -0.10082748 -0.53452248]\n",
      " [ 0.34157702 -0.10082748 -0.53452248]\n",
      " [ 0.2198268  -1.2437349  -0.53452248]\n",
      " [ 1.07207838 -0.94742557 -0.53452248]\n",
      " [-0.99767547 -0.37808836 -0.53452248]\n",
      " [ 0.09807657 -0.10082748 -0.53452248]\n",
      " [ 0.09807657  0.32247156 -0.53452248]\n",
      " [-0.87592524  0.74577061 -0.53452248]\n",
      " [ 0.34157702  1.16906965  1.87082869]\n",
      " [ 1.68082952  1.5923687   1.87082869]\n",
      " [-0.99767547 -0.10082748 -0.53452248]\n",
      " [-0.02367366 -1.75635005 -0.53452248]\n",
      " [ 1.31557884 -0.10082748 -0.53452248]\n",
      " [-1.6064266  -1.69497168 -0.53452248]\n",
      " [ 1.07207838 -0.94742557 -0.53452248]\n",
      " [-0.99767547 -0.94742557 -0.53452248]\n",
      " [-1.36292615 -0.9347266  -0.53452248]\n",
      " [ 0.34157702 -0.10082748 -0.53452248]\n",
      " [-1.36292615  0.55274624 -0.53452248]\n",
      " [-0.02367366  1.02260818 -0.53452248]\n",
      " [ 0.7068277  -0.92837711 -0.53452248]\n",
      " [ 2.28958065 -0.86953855 -0.53452248]\n",
      " [-1.11942569 -0.17532811 -0.53452248]\n",
      " [ 0.09807657  0.25262722 -0.53452248]\n",
      " [ 0.09807657  0.78132773 -0.53452248]\n",
      " [-0.87592524  1.56824065  1.87082869]\n",
      " [ 0.46332725  1.31510783  1.87082869]\n",
      " [ 1.07207838  1.71258563  1.87082869]\n",
      " [-0.87592524  0.55232295 -0.53452248]\n",
      " [-0.14542388 -1.35633245 -0.53452248]\n",
      " [ 1.07207838 -0.10082748 -0.53452248]\n",
      " [-1.36292615 -0.97536331 -0.53452248]\n",
      " [ 1.31557884 -0.50973436 -0.53452248]\n",
      " [-0.02367366 -0.08643531 -0.53452248]\n",
      " [-1.36292615  1.25457606 -0.53452248]\n",
      " [ 0.2198268   1.60252788  1.87082869]\n",
      " [-0.99767547 -0.10082748 -0.53452248]\n",
      " [ 0.2198268  -0.10082748 -0.53452248]\n",
      " [ 0.58507748 -1.2437349  -0.53452248]\n",
      " [ 1.43732906 -0.94742557 -0.53452248]\n",
      " [-0.02367366 -0.52412653 -0.53452248]\n",
      " [ 0.09807657 -0.10082748 -0.53452248]\n",
      " [ 0.09807657  0.32247156 -0.53452248]\n",
      " [-0.75417501  0.74577061 -0.53452248]\n",
      " [-0.02367366  1.16906965 -0.53452248]\n",
      " [ 1.31557884  1.5923687   1.87082869]\n",
      " [-1.24117592 -0.10082748 -0.53452248]\n",
      " [ 0.09807657 -1.75635005 -0.53452248]\n",
      " [-1.84992705 -1.69497168 -0.53452248]\n",
      " [ 1.07207838 -0.94742557 -0.53452248]\n",
      " [-1.36292615 -0.94742557 -0.53452248]\n",
      " [ 0.09807657 -0.9347266  -0.53452248]\n",
      " [ 0.46332725 -0.10082748 -0.53452248]\n",
      " [-1.36292615 -0.10082748 -0.53452248]\n",
      " [ 0.2198268  -0.10082748 -0.53452248]\n",
      " [ 0.09807657 -0.92837711 -0.53452248]\n",
      " [ 2.65483133 -0.86953855 -0.53452248]\n",
      " [-1.24117592 -0.17532811 -0.53452248]\n",
      " [ 0.09807657  0.25262722 -0.53452248]\n",
      " [ 0.09807657  0.78132773  1.87082869]\n",
      " [-1.24117592  1.56824065  1.87082869]\n",
      " [ 0.09807657  1.31510783  1.87082869]\n",
      " [ 1.43732906  1.71258563  1.87082869]\n",
      " [-1.24117592 -0.10082748 -0.53452248]\n",
      " [ 0.09807657 -1.35633245 -0.53452248]\n",
      " [ 1.43732906 -0.10082748 -0.53452248]\n",
      " [-1.24117592 -0.97536331 -0.53452248]\n",
      " [ 1.43732906 -0.50973436 -0.53452248]\n",
      " [ 0.09807657 -0.08643531 -0.53452248]\n",
      " [-1.24117592  1.25457606  1.87082869]\n",
      " [ 0.09807657  1.60252788  1.87082869]\n",
      " [ 0.09807657 -0.10082748 -0.53452248]\n",
      " [ 0.09807657 -0.10082748 -0.53452248]\n",
      " [ 0.09807657 -1.2437349  -0.53452248]\n",
      " [ 0.09807657 -0.84837359 -0.53452248]\n",
      " [-1.24117592 -0.38697764 -0.53452248]\n",
      " [ 0.09807657  0.0833076  -0.53452248]\n",
      " [ 0.09807657  0.13410349 -0.53452248]\n",
      " [-1.24117592  1.502206   -0.53452248]\n",
      " [ 0.09807657  1.502206    1.87082869]\n",
      " [ 1.43732906  1.96317866  1.87082869]\n",
      " [-1.24117592 -0.10082748 -0.53452248]\n",
      " [ 0.09807657 -1.75635005 -0.53452248]\n",
      " [ 1.43732906 -0.10082748 -0.53452248]\n",
      " [ 0.09807657 -1.69497168 -0.53452248]\n",
      " [ 1.43732906 -0.84837359 -0.53452248]\n",
      " [ 0.09807657 -0.7552478  -0.53452248]\n",
      " [-1.24117592  1.502206    1.87082869]\n",
      " [ 0.09807657  0.17601009  1.87082869]\n",
      " [-1.48467637 -0.09701779  1.87082869]\n",
      " [-0.26717411 -0.05934417 -0.53452248]\n",
      " [ 0.09807657 -0.92837711 -0.53452248]\n",
      " [ 2.16783042 -0.86953855 -0.53452248]\n",
      " [ 0.09807657  0.78132773  1.87082869]\n",
      " [-1.24117592  1.56824065 -0.53452248]\n",
      " [-0.14542388  1.31510783 -0.53452248]\n",
      " [ 0.95032816  1.71258563  1.87082869]\n",
      " [ 0.09807657 -0.10082748 -0.53452248]\n",
      " [-0.14542388 -1.35633245 -0.53452248]\n",
      " [ 1.43732906 -0.9334567  -0.53452248]\n",
      " [-1.24117592 -0.97536331 -0.53452248]\n",
      " [ 1.43732906 -0.50973436 -0.53452248]\n",
      " [ 0.09807657 -0.08643531 -0.53452248]\n",
      " [-1.24117592  1.25457606 -0.53452248]\n",
      " [ 0.09807657  1.60252788  1.87082869]\n",
      " [ 1.43732906 -0.50973436  1.87082869]\n",
      " [ 0.09807657 -0.08643531  1.87082869]\n",
      " [-1.24117592  1.25457606 -0.53452248]]\n",
      "\n",
      "Min-Max Scaled Data :\n",
      "     Company       Age    Salary     Place Country  Gender  Place_encoded  \\\n",
      "0        TCS  0.081081  0.445089   Chennai   India     0.0              2   \n",
      "1    Infosys  0.351351  0.445089    Mumbai   India     0.0              6   \n",
      "2        TCS  0.486486  0.137817  Calcutta   India     0.0              1   \n",
      "3    Infosys  0.621622  0.217480     Delhi   India     0.0              4   \n",
      "4        TCS  0.162162  0.331285    Mumbai   India     0.0              6   \n",
      "..       ...       ...       ...       ...     ...     ...            ...   \n",
      "142  Infosys  0.135135  0.809491    Mumbai   India     0.0              6   \n",
      "143      TCS  0.432432  0.903039  Calcutta   India     1.0              1   \n",
      "145  Infosys  0.729730  0.335154     Delhi   India     1.0              4   \n",
      "146      TCS  0.432432  0.448959    Mumbai   India     1.0              6   \n",
      "147  Infosys  0.135135  0.809491    Cochin   India     0.0              3   \n",
      "\n",
      "     Company_encoded  \n",
      "0                  2  \n",
      "1                  1  \n",
      "2                  2  \n",
      "3                  1  \n",
      "4                  2  \n",
      "..               ...  \n",
      "142                1  \n",
      "143                2  \n",
      "145                1  \n",
      "146                2  \n",
      "147                1  \n",
      "\n",
      "[144 rows x 8 columns]\n"
     ]
    }
   ],
   "source": [
    "print(\"Standard Scaled Data :\")\n",
    "print(df_std_scaled)\n",
    "\n",
    "print(\"\\nMin-Max Scaled Data :\")\n",
    "print(df_minmax_scaled)"
   ]
  },
  {
   "cell_type": "code",
   "execution_count": null,
   "id": "49b5ede1-518c-4ac0-b611-2783dd66250f",
   "metadata": {},
   "outputs": [],
   "source": []
  }
 ],
 "metadata": {
  "kernelspec": {
   "display_name": "Python 3 (ipykernel)",
   "language": "python",
   "name": "python3"
  },
  "language_info": {
   "codemirror_mode": {
    "name": "ipython",
    "version": 3
   },
   "file_extension": ".py",
   "mimetype": "text/x-python",
   "name": "python",
   "nbconvert_exporter": "python",
   "pygments_lexer": "ipython3",
   "version": "3.12.7"
  }
 },
 "nbformat": 4,
 "nbformat_minor": 5
}
